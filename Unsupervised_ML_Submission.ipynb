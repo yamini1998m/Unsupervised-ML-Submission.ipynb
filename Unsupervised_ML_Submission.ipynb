{
  "nbformat": 4,
  "nbformat_minor": 0,
  "metadata": {
    "colab": {
      "provenance": [],
      "authorship_tag": "ABX9TyMMV6YaRqnLT0fnl8Wa0bWi",
      "include_colab_link": true
    },
    "kernelspec": {
      "name": "python3",
      "display_name": "Python 3"
    },
    "language_info": {
      "name": "python"
    }
  },
  "cells": [
    {
      "cell_type": "markdown",
      "metadata": {
        "id": "view-in-github",
        "colab_type": "text"
      },
      "source": [
        "<a href=\"https://colab.research.google.com/github/yamini1998m/Unsupervised-ML-Submission.ipynb/blob/main/Unsupervised_ML_Submission.ipynb\" target=\"_parent\"><img src=\"https://colab.research.google.com/assets/colab-badge.svg\" alt=\"Open In Colab\"/></a>"
      ]
    },
    {
      "cell_type": "markdown",
      "source": [
        "# **Project Name**    - Netflix Movies and TV Shows Clustering"
      ],
      "metadata": {
        "id": "_5p94BGDviwF"
      }
    },
    {
      "cell_type": "markdown",
      "source": [
        "![pic 1.jpg](data:image/jpeg;base64,/9j/4AAQSkZJRgABAQAAAQABAAD/2wCEAAkGBxMTEhUTExIWFhUXGR8bFxgWGBgYHRcZHRgaGBcdFh4YHSggHR0lIB8fIjIiJSkrLi4uGh8zODMtNyotLisBCgoKDg0OGxAQGy8lICUtLy0tLS0tLy0tLS8tLS8tLS0rLS0tLS0tLS0tLS8tLS0tLTAtLS8tLS0tLy0tLS0tLf/AABEIAJcBTQMBIgACEQEDEQH/xAAcAAACAwADAQAAAAAAAAAAAAAABQQGBwEDCAL/xABMEAACAQIEAwQGAg0KBgMBAAABAhEAAwQSITEFIkEGE1FhBzJxgZGhFLEjM0JSYnKCorPBwtHwFRYkJVNzkpOy4Rc0NUPS8WOD4rT/xAAaAQACAwEBAAAAAAAAAAAAAAADBAABAgUG/8QAOhEAAQMCBAMGBQMDAwUBAAAAAQACEQMhBBIxQVFh8AUTInGBoZGxwdHhFDJCIzNyFTTxQ1KCkrIG/9oADAMBAAIRAxEAPwBRhgtzvmWxcNtw32QIckKGJIbYn8Hf9de4RhALeIeQcmGu8xPrZkKgRPn57Gm3Y2+bdm4wA1usEJG4Cp3mvUEhAPNGpDhMRC45QABkZQB0UM4A91KBhBRC8lIezTRi8MfC9b/SLTDtgQcZfI9U5SvWVNtCuvXSNaU8IuZb9lvC4h+DA1qnGuyeHvOl4Bz/AEYG6nepYHeCxZu2h3lxMgBV2BPMBkWSCYp0IJ1WSV24YEkx4H36VervZDDIb2mJvC215QlsqrsbeJwlhQAbZkjvnnTmKj1aj4rsmllbqrnvXAuJZbwcW7aLh3dWWAj57pVC5XMoAdIOs1JVq5+hC6fo1wHbvDHwBP11qNi9mAkaeP1VTOxXBrGHOIs2cxVbhUFrmpbvDbJJuWUE7cq5h4MatVl1KqBm+6G41yKDoI3M+7zrEXK242AUXtPaRkR3LDKYGUgDngahtCNq8++ktAMbAmO7SNtoMRGm0fOvQPFsjWSWIUcpAcwJ7wIvNEAE7E6TvprXnXt639NupJPds1sFt8qOyLJgToBWx+2FibwtH9FV8rw4wJh3kbaTbHTXrSbtDjGsY67kQd3chmQaQWWWK9NSTp5099EAT6AcwmbrdSCBC6SNYnptSTtoUOPvQyIq5FXNmiRbUkQqljrM6GK5rYqV3tOkItZ1RjGup6z8bGyfdjseWurcuPatWwrBULAMdCM0ARpGUbRB86WdureIv4gkW81hVlCkEG0ASzlx6wJGaJ2UR1rtw2HdrFpUt2iV5S6u2ViBrLqpRywnxOuhDbWTH8TxFjDBmgXxCqwBazkYhoUjUNtJuAahoMxN4bFCjVzUWeOC0TEDgQQSST7iQY3cZReBmc6Sb7zoLAECBbThfeVR8Lh7QsuRqVAKwMztmhcrAadY8NJowHELVq2RltnNBJywVPWPP9wrs4Bi1l2ylchLPzAQAC5K6yWIHrbj5VUsDiHxF9Axk3LgLHzZpc/M13KVeoL1JM6T9pNvP0suL2lh2ViGsdprB356X9+N1o/pEIPDrpAX1bR087izHl/HWsZwh51rUe3V/wDol1RoITT2XE8dvGstwvrj+OlLVXZjKapMyBrZn8mYvwn4fBP2HI09RrWh8YAbg2EcahbVs6dCgAPzFZxdLPltjdt/IeNXzhHHxYw6YdVzhJyrmEwegHUkkn30lVaS2QuhQqBtWOp2S/gXHBYuS6tk0eIMkqDljyM7+QqX2XDYjHLcYHTPdYwQNBplPkxHsipPd2b7BTadHAkKFuAqpOsLlgCT00k1N4fiEwhu3Fum4cnd5bgYC3l2GYIcgH3pHhSoN116uIBa63icL+XLz6lRuEXu7xF86S0n4qI+bGtYt2coVfvVA+AisE4PxNTjsOouBxdxCBjlIH2wcqFoJGgEkD56bDxHtBlY2rfPf6AAkITs1yNh5dfISQ639olcCoPGVgfpMP8AWmL/ALz9kVpPB+JXLHZy21rMGKXFDq2U28124M87yOkdSNRvWXduLGTHYhZkh9STMkgEknqSdabW+2M8MXh5tCBBzzrpe73b5VdUEhscQhN1KuHH+zFu9w9eIrmS/wBwj3V0KuQqB2YADK0SxiBMyJk1SOF34uofB1PwYGrHhu35+h/RGsFlFg2muLcghSptgwUI20qpcLvAXLZbYOpaOoDAmPdQ6ZdBDuPL6KqggiFovpIW/c4kljEYiVYqbQtQoRXdkQAMwC3MywWLHoZiFEntDwx7XCnu4g58RfxcuxiQVF22BIEH1SdAPWjpVV7c8aTF4x7qZshVVGYQYCydAdOYnrVs4x2ow+J4T3bz32XNHduQLytmdg0ZRm5tZ2eKE9xDWEg3j0Ww12ZzQLiZ+V+EbrMrltgA2U5WJCmNDljMAesSJ9oq19o+CNY4Gt0384xF2zdFsLAtzauHedWIgHYco3iaU3MRZPDrdvNN5cU1wiDpba0qGDEbopip/ajtBaucEw+Gk97bdQRBjKveAQdtiulHL3SIH8o/Pkhhtkg9GjAY0EmALbkk9ABJmtHudorbHkS7dAYrltIWJICmWmAoIYHUjw8azX0b/wDOj8RvqrXsLhZ2yoijmaNFE6aDck7KNyfaQxGYQdE7h5FOQo3aPGtcwQsopW7ecZreZBce3Azra1KtcAzDIDrnMSdKS8EwzEWr5ZsLZRm7nDo2XNBZXN92gu7OhzEjRbbGAqwvT2+sNffDWbFlmk3CNMztGSS33KrBk9B1JiaU8c46y92iXLd17SBbl4otwvcBYk22uA6KuVO8UAv3cyRFZqXKJlcdDz8uvjwVs4p9DxTA3L16+Q4zLYW5dtKqgyVWyMpZnAUhivIxI1y03xF9WhlU82skZfzYBX3ifJdhn545Yu4bJiO9uXxbcBmZ2XOWbIYLETlywdAPmNA4M+E7hMlohSCU0YRLuRoWJiCPHbbWBdI5So1rhrJUbBI0spAyg8h8VJkDyiSPhWH9ov8Am8R/e3P9bVvOIuoH00XT3aCepO81g3aP/m8T/fXP9bVLAQEPGfsHWysoxRWzaC7kKPzVpLicXzc0EjTWW6A9Nt/lV39HaNcutaR8rthYHO1sgZrbMyFEbmEDePWO9W27cNxbdxriW0dM9trd+6FdXd7kAG2CMuYCCo6ewcftTtc4fGOoCnmiP5HQtB0DT7E6bQU1i676hyzYR8lSLPF1Lu/eK7NAJZs+gnKBmJygSdBA1pXiL9oW8R3ZTM6tmgzvJ2JMa+EUh4Zj7aF80wTpA9v+1dAxijvdznkL5STv7q6mUyuSujhhi9aP4a/6hTbtDxS699wb1wqvIoLtCpABUCdF01G2lJMPcysrRMEH4Ga7cZfDuza6knXzow0Q48U8lJXi+IBLDEXgSCCRceSGjMCZ2OVZ8co8K+MNjrqK1tLjqjxnRWYK8ffKDB99Qs1faOKitbD2V4xcexbL3HfTdnZjynxYzoRT88UPifHfr4+2sk4P2gt2UylmOpOi7THn7T76ZHtja8W+H+9aAHFDcXTotA4nxEvauZiWlTMmS0CRvvtWNdq2nEE+IH66sh7YWoiW/wAP+9VLjGN765nExAGvlUdEQo0HNJC070YYrLgo/wDkY/VSvH8NuXXxF4XLUvcYWwWkuhY5soUEkwFEAa8w9tV4VxvJZ7liQoYmB1mN6c8H7R4W03eNmL9OXQeJ33pLui15e3dNOyvaGu066/C0Q3xYwgsIHeTksyIL5mz6hgCpUljqAICmd4+MVc7/AASqXVGDMTnIEFe8XLJ9WDGsHQedUrE9ubRuW7iBgbc7j1gwAZQNYOghumo1BIMzBdvMMLNxGNxS9x3GVAQuds0b6+2gswxa7OLFMisIABi8zPXXKygcLxK2oe+BctOjTkIzHMhAUxGVgehkGd6rXAL/AHV+25GisJ9hEGu2/wAVtmRmJEz6or7THYXKJzhvJdPrrotJ3S1ao+oBncTGkmfgrJ2uxCvhLhB3y9Pw1rP8EsuB7fqNNuIcZVrJtLJmNxEQQfHypZgMW1p1uIYZTIPxH8EajoQaj0JrrzCk4nDXGvd2V5ywUKYGpgAGdjr126017P8ADcRaxKP3HMjPyuVQTbANzOSQFVQwJJgQaS2seUuLdU86uHBIHrBswJG2/Sm/C+0roFV7hItgqgZFcFHAV0efWWAoE7ACIgQGoDlgJihldUEnjrppaVovDMdiQxVrFokWAhU3LCKyF++7xM0ow5dSuYbnTSIN3GXcojDrOa5eRmuhURWK2SXMqhQMkCSATpBBANabtgpYmSPsZtgKihVRgQVUDb1jrvJJ3rj+eChAgJKhDbysgIKG4bsN485kHcQKQ7l8/tXozVw/dkB7J/yPOd+pIUPhPA7oxBee77p5V89sRcTK/LJlokHlnetn7Mvh+4FyyCxY82bV8/XNPxzbEEHrWHntRdUOlvIEuEswyKoBIynKFgAQBpV97M+krCW8NbTELdF1FCMUUN3gUQrSWBkjees06A7deeqOZmMcddlRfSJ/1LFTvn/ZFL8JhFKqzA6+YHUjwNc9p+JDE4u9fVSq3HJUHcDYTHWBUJcQQANdK28EiyrDPpseS8A2tOmoTnElFTIiwW1LamQNhr56/CoyXCuo3/gVFbFLEAmev66+zi08T8KprIEKq2INSqHiBGgAgAC4sOZnzn0l98Tqd6l4a8cpEH2z4iDSb6UvnXYuNXxNRzZEQtUKuSpnDjJmTbfXUHVT7WL5MpJjWBoR4+6ujHibOYHTMJGnnUa7ilzZlJE9B/71qPexErl85+E1APnKyXjR14BAg87E6/DhA2T70cn+mD8RvqrYsJcYAiAQSCQwkEiYPtEn41h/ZPiq4bErdcErBBjcSNx41o9v0i4Idbn+D/etknZGw9Rgpw47pp26w918G+QlQhDsqQgdB6wcLGYAHNzT6tZYw5T7K0X/AIl4KCD3hBEEG3oQdCDrtFZpdx1oMwUsUBOUkalZ5SfOKq+6YbUp6SF3YVGfKqiWYgAeJOg+degcLwu2ltLaxCKFH5IA/VWB9leLWLOIt3LxbLbJbRZOYDk0noYPurRbfpNwI+6u/wCX/wDqqIWe+aWjxXVpxvC/A71577QrGKxA8LtwfnmtZu+k/BdDdPlk/wD1WQcVxfe37t2I7y4zx4ZmLR86sc0viKoc0CZVr7Cdp7eCv9/ctu4FsooQqInJJObfapHCe2a5rj4s4i9MLaCvbHdouaARlA69ANqpHeDLFdYeNqUxGAoYio+o8eJ0AmTIjhw5oBqGyvf/AAl4nlDm1bAOgm6vXauq/wCi3iKKWKWoBy6XVMmJMAb6a1suFxuIa1bzAo4ctcN0ASmYeqrEELlIUaeB6zSnjOOxCI1yHKic8A5CkiM2UkGGBBOkGQYgwEY55BGW/X1290wMKJ1t+Vi2I7K4lASyroYIziR/t57Gld3AOuhj4itN4u+ey160QVnmjoQQBqQDHNoPMyOtULEE6zvTFKu542Uq0GN0lJSIqTbwbsJA08zXRe3NWngYGQT+Bl/GBZv9qLWqmm2Qidm4NuKqmm4xb32+yQ/yZc8B8R++uRwq54D/ABL++m6V2rQDXeuk3srDu4/EfZJP5Iu+C/Ff30fyRd8F/wAS/vp/Qar9S9G/0fDc/iPsq9/JdzwH+Ifvrov4Vk9YRVicUv4uOQe39VEp1nOIBSWK7OpU6TnNmRz/AAktFFFNLhooooqKIoooqKIoooqKIoooqKIoooqKIoooqKIoooqKIoooqKJ9wTspisUmezbBWYBZgsnrE700/wCGnEP7NP8AMWrD2Ys3P5PsNbna+WAnbOq9OvNWwDDqgLMQANSToBQ8/iI4R7pl9DLSZUmc2a3AtP1BB9VgS+i7iR/7Sf5ifvrn/hXxL+yT/MT99bnwTjtnEmLeYSCVzBYZQYkFWIHQwYMdNDDtLNWHgiQglkGCvN7ejDiI/wC2n+Yv766W9HOPG9tP8xa2TDdvMDdxIwwNwMzZFdlARnkgAHNmGYjQlQDpTnFcPnWrlTKvN/GOzGJwyZ7qDLMSrBoJ2mNppKBW1elDCFMDdPmn+sVjeD9dPxh9Yq5tKjWy4DiusWzXe2EYCZWPIinfGwO8TeJfTzzc/wA5qDjHnWB4yOsmT9dYp1C9uZOYnCNoVXUiZjfSZAPPilvcNXPcNUjN/vNfQaf/AFVyUPuWdFbhieNAFh3kpqBDAqzGVBGcggtrpmYeqI1NSeHY8FT3XdPBBKsXCZswJdALYQQyzKAgkkyJkUZMcLTnvEW+plXW5q0GOYNurbEsPPQbmPbVxzW81tAQslupnLOokESJURC7a1yRSAb9+p905LTZaF2yjE4LmvBQpDTBZQjXApc6ZiwVCdWglmEmVIx5+H5sSLLFlDNALQrAQSJEkAnTTzrS8fdufRzhw9u29yLnds5IgjMEOQNAgDf73U9Bm3GsPa5mD95cyC44trCWw5XKCXYkiWA0HURpBJMKXFpBJnbflPt/wg1Whvkq7j7OS4yTOUxMRPu6eyrz2E4FbxZZLhIC2S65SPWDIqgyp05qoF0yTV37H8abCRcVA8qogkj1bqXen4ke+nqpADZVYJr3d4KesCPirrc7CYVWC57/ADBQDmTRit5mJ5NV+xxGm+9fP8y8OD/3WlSyhWSTCocolYksWHTp51APb1icxw6kgcuraGLgzHXURcOldf8APUkFWsKQUKlczDQoiMJGv3JM/heVDzUk33OPG5/9h9x813HgeGRLdyGYujuFYjL9jw7s4OQDZwBoRpI86MLg8K72lFq0A7QSe+MkW7ZyiH9Yl2Uewe9ZY4+PsKtahLa3V0OpF4ODBIMFc2m8xTDBdobIu2yq3bZDAZi9srlZbdps02zCwgJI1EmsAs5bbeSZfSxQm7jZ0eKN3QSJ4ZST8Z2+8Pwi0xA+j2lm0HGdrozfYyxdZuDMoIyECSOp0NVTt5gltrhyqqveWluMFLRLF49Yk+qADruDVus8TspDSxCoITvbZ1+jvbB+1yDlWCv3zLVR7fY5bqYcqICWltgFgzDI1wc0AQTvHnRGRI80pX77KSZyxuSdjxJ60VJooprwLBLddg8wqzy77gUw5waJK5mHoPxFUUmanSfKUqoplxrBC08LOUgET7IPzBqfxvhFu1bzrmnMBzEdZ8vKs963w89EyOza/wDV0/pfu99LX0na0KvUVZeG8GtXLSOxaWmYI++YeHlUr+bdmR6/+If+NDOJpgkGU5S//P4uqxr25YIB1O9+CqFFWHgnCbd21nfNOYjQgaaeR8anDs7Y6d58R+6rdiGNJadlmh2Diq9NtRuWHCRJM39FUKKsH8kW/pPdc+XJm31nLPhU8dnLJ/tP8S/uqHEsETKul2DiqubLl8JLTc6j0VQoqwYzhNtL1m3zRc9aT9WldHHuHpZKBM2szm8o8q02s0kAb9fRLVuy69FlR7ohhAN9zGluYSaiirDxnhFu1bzrnmQOYjqJ8K054aQDugUMHUr06lRkQwSZ4X0tyKr1FWLhfCLV60Glg+oMnlzfczpttUXgvDO9dg+YBdDG+boPkfhWe+bfkmP9KxBNICD3l235SZta31SeimPFrKJcKJmhdDmOubr+73UuojXZhKSrUjSqOpkgkGDGll6J9Dif1ZZMn1rn6RquPEMrWriGCSpBEgaHQHyGo1rPOwnF1wvA7VwhiWd0QLqczXGAOvRdz7K+Mb31xSWdUuFz3SOSOQ2w5LNrHLBzb79YNLV3vAhguftb3W6FMOcJtz8lOwHEkOMF+yqn7FDMsHOzEEAN90o6dPWA3IF1wnGRcTNbRmdSA9sRKc2U5z6o6kAkEjw1jOsItzD4RbNzuzdXQ3be0glbebMqyFEL5QdDrLzgePOFv3LTXDdRgsiOYOFEn1iIjz6Ck6dYte+HeHTyI11+e9tYTdWkxzA7QwLcZ8tDy+W5fw1u5cw9trb3DYuyiacvdhnthTlB6LpJGULoZE2a3xNHc2yGR/B4E+Q1mdtOs10Wu0doM0hVPXmE76SSNtfmaSX+J3MZc5VCGDkgsLiWy0W2u9VZuZ1AAgaa71TMUCM1J2a4kZSJB5kDz4W0WKjC7aLcZS/0wW44ddP4SfpBWAJvXoD0qMTwi7JUkOikr1IuKNtx7DtWAWlk11WmRISREOhd9poMipT2Z2PhPKd9CwM6yCY85roRDuDB8ql4WzmIhZOxjxOgjzj3bnpUMgIrRJgddBdF5No6CD5nUzA2ERvXWp/j+AaYY6wbVxrUbGLgDDUg6hWEgrtBMnXrNRUw7DY1BOoV5hoV6DwvZCzeT7NcU3A5Oa1bFrRtSHGY5jv1Gh26n54r2GBM2HVAogd5mvEA6lUDXIgGTzCAWOmpNJsJxG6touxYhQWaBB0EkQQDPlT1+LBFKNcIYiRqPGPGfiI161yWm0R11+U66m/NY9fBU3tJw2+ma7kVtSCrZMrIQZzRrvtHh065vxrF4htLpGWAFUAQoAUQu8AxOUGJkxWh9peIlrVxgDC7nSBzRqTr190HrAOf3b8xqg/KuD3yopjClDxTD/JIH3q0YXDsLNtyOUyoPiRBIA30BHxqtX/WO3uM/XVlwOLVRaBB01K5iFK5MxmOp2kDw8KYriQFrst2R7j5D4nrVSfopi4SQO7Gon8NUIBEj7qfCAa+r1gKqtPM0krGyDUN7CQdPwTUbFXVNvOhCqWIy6zGRd9gVIMARACjevtrDXbotM5AKtrB0Kq7xliRERS+QTC6zq7xTzA3EGI12O+hPM/BSsNatPd7vvu75RmLgEK2uqwRI2Gp/fXCYUlLdzMnOVEZtSWDmFHtUrEzOm9V/DvNyekbE+OnSpTowRc2gdpBEHKCQr9Z6fm1t9MB0IGFxLzSzTx9YM+kgwfTS6bX8IVnflGY6j1QmcnfoOm+nslLxtCEWQYLaGN4kGPGpDYhkcgkyoK+sZZSSIAOwiZ8cx8ag8SxBa0incezTTNAjSNSffVU2w4Faxdcmg4E7dcuEevJJqfdkvtj/iftLSGn3ZL7Y/4n7S0zX/tnrdc3sb/fUvM//JU/tPh81rP1Q/mkhT84+Nffan7Qf7wfU1SkcP39rqNJ8A6D9c1D7T/8v+Wv+lqSpk5mNOx+cL1mMpM7nE1m/wAmQfNmcH7ei++HKTgxpJKOAPPM5qt3+F3UXM6EDx0/fVl4WxGEUjcI5+DtSXG8ca6hQoqgxqJ+5M0aiXh7suk3XJ7Sp4V+Eoms4hwpjKALHwjWx3gajXeEnq39q/tJ/vB9TVUKt/av7Sf7wfUaJW/uM8/sk+ygP0eM/wAR8npR2Y+3/kn6jUzjvDLt27mRJEKJzL4ebVD7Mfbx+KfqNM+K8Xe1cCBUZYU6huonxrFQvFbw6xumsIzDO7KjEEhuf+Os7bH5JLw22VxFtWEEOAR76Y9rt7XsP7NQMDdL4pHO7XJMeMzpU/tdva9h/Zrbp75s8Pul6QYOysQGad4I8pbEqu1bu1P2j8sftVUat3an7R+WP2qlb+4zz+yz2T/tMX/gPk5Luy2Jy3GQ7ONPauv1T8qf37gtJcfXcuZ6ueUe6arHAcOXvL4JzH8nb56e+n3H8OXskAerzjzjRvzeb8mg1w3vQOMT15Lrdj1azeznuDZLc2TnafW8+eiqDMTM7nU110UU8vGL0J6LMAt3hWGzloV7pyglc0s6kMRrEHoRVW4jw/F2sXI7t7az3b3GIQAlT3d0s0A88RJaddjBuvobE8Js/jXP0jUn7RY8fylaQ92sITmuKXWSLmYZdJZoVRGvqjrFKV3w5oGpk6TpfiOr7JqgTBHER8ZUC/wO7ctpbuNkAYTastyssAIhIEwsTPX2wVl28OLdw3O5VbpZgcp5rqZCTmE5dAoeIMhdxqT9Jie5sQ3NeCHlzdcs5Z6DNy5toU+Bqt8bOMxNuXZbbMOZEJUZc4KkjNzkLO+gnppPOw7O9a41CIcTxi+pjnxPyEI4e1jhN4H/AB6DZOcdwgtbayiJcN62wzlVUKZzd5dLhmEEbgyJUDpUn0e9m7jvfXE3GKottdGPMQWJ5mE5dFYQAecHrrAS4MThLiMCtyFCuGOxjLcEHUMRzCTp11p/2X4i5xl3KnJEl1kxcJYslzUnYTm8RE6rW2VntBziYPi4xxG3PynSyjoLRlN1z6VcCtnhN9VZiDctmGIMc6iFgCBptWDcPALiSQNZjU7dB416D9MhnhN0+LW/0i157wDAOCdtfqrrt0skh+8SrJ3aBxKyhGVQRqXGozazM5gTsfZFMEwncMDetEZiCi6zruwy9SCBMRrtSnvrZgkDMMpJMiSPV2Op8Y8/Go+IvBQuWBrIK6badOtVTP8AUFuutePJMd5DXXvB04nWed7XEa7SnKcEuXLjQc0ljnbTNAzHp6xGsdJ6CpR4SlsDvbgQkSASdR4iBXTa4xcQsAzwxzEZmEk9SZ18K4w/FWSYKydzESR7+lK1n1bjgmKL6Avlv8fqE9XG5kZcvOzARLElVh5BJy+tpG4E6fdHsvXyghoJFlWETyhYIk7Def8A1Xzi8PfsJmdreRFSHXO2aWdTGdFZT6ysCBoV3Brpx/e3FYq9lEbDrmuXO8kBcHhLjlsisTrcBECZLe+Bjs+ijKppNeHuOYtc3mCQNRa425rs+lL9Da7m5hiVAuMsSftxzqCQ8z16RtFUXiwzOWVVGYAlUUKEIUd5AAhRmk6aRT7i18jCLbV0uWnvki6mfRhaVMji4iMpCspGkEbHQ0huKRI5TAYFgTC/fQBGsQNfDxBgjG5Z2v7QB9EmCXG97AHXWTx8z6mUku+sY2mmeGwpa2pAMs6oPKQR9Z+VKrm5pth8W9oKSikjW3n1C78wTYnzYH2UZ4kABawtRrS4uEiPh1tzjRM79g97eUryd3cuKI2JRQfmIpt2Xssz2HZZBGIuN5r3Ytr9Y/xedKr/ABFGU5mJe4Ie45OdxE6x9rtDoi8z6bDQT8D2kNvLCELbTu7QJVYVoLMxJEu2VfJco6mgRAhdQO7xxje+vOdhsLesCRdJuz9peV3mGF4E9PsdjMIG5aWHyqVjsKRaZssxYsleutwl2Ij2N7ga6+A3mW2pZpQZwqqqyM8ByzETqFA01rvbHwD3w71YRZadFUEIGyw6NDNzqdyZUzWnEF6FTpPbhwQIkTPAFuu+8nlvEXjX8GfpGTKQqqBGx9RYn7qZIP8ABpRftnug53zFT7lWP103xl1SwcT6sAkjMYAEZlhbkaCRlaN9qT4q+GAOWDOvn8IHynzqqckreMLAxwOpn3jlHh0A4EwVAp92U+2P+J+0tIamYHGPaJKGCRGwOnvotVpcwtC5/Z+Ibh8Syq/QTproRy4p33+THsOjgIffbEfOKkdqB/R/yx9TVWb19mbMxlj128htRexLv6zs3tJP10LuPE13CPWF0/8AWG9xXo5Sc7nlulg7Y+WqtfCbWbDIDMFCpO2hdorpHC8KN8m/W7+41UaKncGSQ4ieuKg7apGmxj8O12VoaC4g6CN22ngirT2kxlt7RCOrHODCg7Qdaq1FGewOcHcFzMLjHYelUpAA5wAZ2idPimvAL6pdzMYEHX3Ucfvq93MhkZRr7qVUVXdjPn5Qp+tf+l/SwMubNO8qdwtwt62ScoDanwqz4gYe7GdrbRtzkfUVqlUVmpRzODphM4LtP9NSdSdTa9pMwfIDmNuCdcew1lAndZdc2YK2bwy9T5007UH7BpPrj9qqjRU7r9snT3VjtRre/DKQAqACAYDYBEiBeZnZXDgGF7uzncEZuZt/UU6frPvWjgWP70XA28livijbgeQ/XVW75ojMcvhJivvC4l7bZkOUxHTb31h2HzZiTcpyh242iaLGNIYwEOFiXTvsNb7TJlGOw/d3GTwOns3HyqLUzGYxrhDPBIESAB8YqHR2zF9Vwq/d947u/wBsmJ1jbj816Q9DJ/qqz+Nc/SNTTE9nHLsyXVOYsea3qhI0gqw06bT+pX6GB/VVn8a5+kariMTauO9hL6G8glrauuZdvWA1A1HxHiKBiKTKjTmbm5KU3EGxhZ12h7MOuRhda5dkm5BhBEFYlTlMwJJA0+Fdxdm/dXKys5BIywBl5iACYzTEHfKQ40IIrVe2WGRMK2U3VubobWYSwGoc6DKQdQT0kAkRWW3r2LCjmurqCJPNqD1kttOg01O0muc+nWbU8WXQZY/jy/NuK6+GrUhRE3uZBm/MnT0BvoZCunA8BcexDWka4o1YBM6y0iIXUHWdd/GJrnC2mS4FWy6u7CDlZM0gswkiMrRLT1XyqZ2C7QYbItoC6l25cAlybneXO6zkqw6BV10AGgmauuHupdXNbdXUkjMhDAlSVYSNNCCPaKNSwILAS6DBBy2EEkxG2uySr4j+q7LoT11rxus49MKZeE3V/Ct/pBXnrDNDA+H8da9Gem63HC7341v9ItecbKyYrpNaA2BokibymVs5joJkgAbkzoBA0JpjjOz2OMD6HiTHXuLuskAA8u+ke6Kg8JxAtXbVwzCXFflMNysG5CdjpoSDr0NaXwDtVbxF0vbtojWGt4i67EWjfFlcQ11ylm2VBPektA6DctAsCDKhVI+hX82VsPfBGRSDaeVz6W9MuhYiFEa9JqZh+DYrUDC32gxy27xggkGcqEjUEa9QfOtFtm6h7u5YtgFLfeBbpA76y+BW21oBMqWgWt8kaZ3ggTSjtPePcYVOKP3bKHyXLV1x37cguORbsPIICMGMZs7ETWHUwTKsPIUnH3Lt+9Ztghrj2+6uWr1hrdvICbqOyXgI5RBePuBB1ik1y9iXtW7yW0fvrz2DbuIOW4yWkyOmgVYthQBAXuzSD+d7iyQuS3dXkQ27NpVawzZ3RgqgLFwBxG+d56VFftfizn+yx3i3A8IgzG4FDnRdGOVTmGoOYg8xmsl5lb7wFvPe3185m1la7vYvEYiFF6wi27lxVt2LDwxRwjv9jBJnKNW2AG1Z9j8Dfswt+zctEiQLiMpI2kZhtOlOf564xVKi5bYFmbmsWWOZjmYjMhjXw0qrgwIFEVOLMoyzO86ei6Lm5r6Q18vvTXhvD8wDsMw6Afr/AHVl7w0SVvDYd9d+Rmvy5rowmFLzp+Udl119prvxGKughjIDDMYgHbKdYkbU1yn701833ZUYiQQNKV77MbgLvt7P7qn4XuBFyQNYvpad9/YAKJgWYIAvMo/+Nmy65mgjSpbhoBgCdN83K3raRl/C3+5qvW7pX1SRO8GPqprwu/mkES+5JBaR+zFaq0yJch4DHNflowQYgXtbSNfT7wDAxOEZNxp4jb/aolw1axaJGoNJuLYRUAIBBJ2np5CtUq4cYOqXxvZZosNRh8I2P04pRRRRTK4iKKKKiiKKKKiiKKKKiiKKKKiiKKKKiiKKKKiiKKKKiiKKKKii3v0d4e/d4GtrDXO7uszhWzZTHfc4VsrZGKyA2UwSD51ZMH2FdbZyLhrLOER1TvmzW1Yuy3LrOGuZmgtCpnAykxBFf9DGJH0BFDAlXcMBuCWJE+GhBrWsK8is7rdwFR7vYK8bwufTHCWx9jtzox1bUlT3SlmcZUB5SgEFAagH0e30gNiRcth0bnDk3SGzwyq4ROb7qGLZpMFRWn0VTmBysVHDdZ3jfR+9+9ma+bdm0oWzajMrl1Bv96EKnIxyjKG1yHoYrvt9ksYVcvdw4a5bt2wlkXrKYdFLZltZXOcQxiQvNDEcoFX2uDVgACFRc47rNPTNhEtcGuIiKihrfKogAm4CY99eccK8NNejvTpilHDLiMwDO6BQd2IcMY8YAmvN1vetLO67r2IJqfwXGXbRc28v2S09p8wBm24yvHWY6jUUvW1XYt3ppFRXCs1ztzjc5JZJYyfsS7k2T7N7Fr/D5mYjdqr5t27VwWbtu0MtoXbSPkWAOUsCdQFH5IpKyHp/A8q4e2fD+PfUVFQqK9YMtV3tzaVsBiQygxbYiRMECVI8wdaif/QWJze35XnGuafdhsMtzH4W2wBVrqgg+2tp4dim+l3bQjlNxZAInK6qCvzmsh7e8FM6nr23SYpONJ9UaMGY+Q+vDivO9cxXpq5kNzu5OfKWiCOUMqkmfMiDsZNfZtxrrTrcLOjvb8rlOx0DxMv5+4MaLzDRXp29e2loPqgttPTwncaV08Gx9642I71FVbThLYAYM4yy7iSZSYg9JiSdap2HiPF18VKeND5Ibpz/ABtvE8V5oor1pw4KSxPh0+VeefShaVeKYkIABKHT742kLn3sSffSz/A/IdYn5fdOUagqtzKo1zFWvs7bBtba5vlJn5CmQuhRJ2FD7ySWjZPnBFtNlUxDpj0MFUKKKsV6+XfMfd5CrNwtibakKCs5SPFiCfbAj66lR2QTCxTo5zErN6IrU0vozZQdF06jrqNfj8KX4u3qR4VhlbNstuw2Xf2/KzuirNx5PsZ8o+uovZHDrcxdtWgCHOu3LbZh8xRZtKAWwYSSK4rTe6zScsRsNdQRIgjWZ+U1AxmH5WLetGqj1pJXoJ6TWGVQ8AhMV8G+i9zH6hUGirhbsLMEMumuYdPLx6eWvjpXY/DxGhnQkjYwIjQ+0dfnW5CWyql1zFW6xocp9lNrGDX74/x/HzrJdCsMlZ1RU/jFrJfurEQ7CB7elX7slAtWFA1ME6bgk/Pb5VT6gYATuoyk+oSGC4BcfIRO2t58geCzKivYvB7a2cIGMgBC7QJO2Y6DfTpWbcU9Kfct3lvA4h1Oz35tKfYAGB9s1QqE6D3Q5sCsDorZX9M11jzYa2UnaXB/xFj/AKaumDv4bH4UYi2SQSQ4aMyOIlSPHUEeIINWXkahZLl5mor09jsLZTDsAqBiNdhG+/wNYR2wZS2jKxDRIM9DOtW1+ZZ7zxAQqxRTLg1sNdUNt/uKacRwwRlA+PiJMfKiAAuDdzf5pg0n9y6uIyggG95Mff2KrNFOsv118laN3HNK9/ySeinBWh11Pt/XU7nmp33JJ6KalaVmhvZlRGPzLiit44djBbOHsIgAyWthpBt823WYNWqxMa0dlBrwcrtDBtv8UKpUrUsheweJocL7H09DzB1Sq92oJClLawSoJZoAL2xdUT1IGYECTIEAzFdnbUf0HFf3L/6TRxntfhrFw22ZnddXW2AcnhmJIE+UztoBUPjnFbWJ4bibllsy91cU6QVYIZDDodj7CDS7i06CF6KiYLgXSeHBY72A/wCo4TWPsq+XWt/uWFtl7mQCM7M2uxOZ9z1IB026RWC+jMf1rgv75a9B9qMfasvas90Lpuuq3URoa1acle9ZFElJmdtAfOqY5wqiwI5i4PEH4SOVjK8/WZLLEjYwYBHA+/nMJVZ7SrqwQlVBlpAO+X1SOsjrPMOkkduGx/euyKpDKW0JXZcoJOvn5/MVYMLwuwBK2LZDc0hUMyDrPsJHsJG1RTgFDPlw2UoOSCgVwWYkJGx0BMgevHiaNTqVA6XO9uj7parSoFngYR/5T84vOtt9LGUb2ktPmYc2v3eYzqSYLdNpjSRrU7+UwFywQGaNlE66HXddJnyNH8n2Sty7fsZIXM5KXPVAkaj1isbCY3G9M/5CtEaJPnmYz03J+dGNWdPkk3Yd/E8OPw0SzB4wOQgVgWB8NcpKmNZ3H5y9JjDPSraK8UxCkRHd6f8A0WzXonhPCrIIdLMZTpKsoEaSoMfECNB4V589Mv8A1jFf/V//AD2qXrVZdlT+DpZGknrrrnH7Ok9yPxp94OldnGCQqjx390fvrq7Pr9hX2n66nY6yHSJ1GopZsB0rsZnGmGyYGgmwnWBtKSW7ZJ0E1aexVktet2pzTcVmUagIplyx6SJHv86V8MwaXLqozBSdGU6EET8iOuuo860nsbwZS2KspdYBUUg/dKxn7oQTGnhudqzXdIhXREGSpHpL4ZZtYQXbVpUIuIIURnDnKQfPrPlVJ4soFxwNp09lWHthwv6PZtqLjXLruWl2LswQMwkkSYzCB+COtVvFYzvEtwmUqsEzOY+OlLts4Rz+n2Rj+0zy691X+0A+wsfZ9dROwVnPjrSxMh/0bVM4+fsDe0f6hX16KWA4pYJEiLn6F6b/AIlJuMVAfJXbE4IoYChcp1bcDTxJ1gSx/FHiJq+S4zm6ZJYmCdwIMe/LWr9phbFpsqEFlK6DoRByga+ft99U/h9kd6oZCEYEGY6AkHQ6eHvoLG5QmnE1ASerQPZU+7iHGzk+73zO81xhcQ4ZdRI2JUfDp/BrS7HClYwgBH1VzxLgKsjKUiRoY2PQirNRs6IWTms7bCnOTpqZ02110pvirEhAFYCBJjdtuv6qa8IwOdkVl1AAbc6jffatGwltYAyiBtpUL4ICzkgEleYuPKRibwO+c7+2tY7C4LPhrBjUgQfMZo6+2sr7TR9MxMbd9cj2ZzHyravRphs+Fw/gEE+Qk1qqAWhJVS5p8JIm1iRbhba2nlwWj2L/AHOGBdwMsLJOkswVRr1JIA91ZR2z7QW8Zms2ruaTlhgQdPBTB85+da5xC0O4cd0LoCz3fLzFeZRz8oMgGT1rMeLcb7rDTaw6pffNmPISNd2yMyhiNTBPSljaEzTHhhY1dw5ts1thJDQY+NWnsB2gfCvctjVLoBE7C4vqEDzEg+MjwpVwnAfSMUEe5lLSS2UvEAnYb/UNSdBUfE22tvyyQpDK2XJoW0kdJ391OFwNigOaSDCtHaLtFcuFkLZh1VZULOp2O/vPyqi4+7mUadd9fOrjZwj4xu6LBRoZy7iSTMfxpSntlhsPaVbdp8zhufQiBBHUCrHBKss8JHwhiHJG4GnxFP8AhuFOJu27bPEAhTE5VCk7aUg4MOc+z9Yq0cAxCW76sxhQDJ1O6kDajuBFBzmDxAGLSZgkbFM0nzXbTefAXNzCSBEiZuNh7WRguz3eXbtvvI7snXLM6kbTpUq32SkKTfAlc3qbbH76mWFx2Ft3ndb097OaVMKZkfczG/wqTb41YU5Rc0W3lBKtDH4eXzrnVsRjZljXRA/hyg/x/wC78CF2KGE7Oy/1HMmT/wBTaZbo4fxtPGxMpG3ZI832YQFzAhfW3n7rTprrvXzf7JkZz3sgIbk5dyCZX1tPb57aVP4fx0MLxvsFYqAgymPup2nxG9S8bxuwyXbfeD1IEhtWIYEbdIHxqn1e0GPymTpJDZG2+W8dWCulR7KqMzggawHPIOpgEF1pi07Qs+ilBp2RSRq6uIXn8P8AZel+EYO09qyxWWyWjMndbeVesaBj7af2cIIqDwHCA4eyevdp/oFWK1aWNqK97W/tV0Q537zMWF5t9lmPZ7sjhrdy815GvO91lJJ9XNNxSwzCTl1Jk69Aa5xPZNsJgcbbTmzo0bAEhInU7nc+4dK4orlMJ7yJ4/Vd4w0yAND8lm3Yfs7fGPwpe3C96snOojX8Fp+FelbGF5lzgO9uCGMFgDmAklR57a0UUc2664rlCScs2tbrriovHCyorW0DZXEySAqwwZoDLmiPVnz1MVQcd2k4uLo5LaW2koGW20hRLEw/LpqBzHXcmiihvZq6Ttufoj0A00j4Rodh9Uxs9s8UjAXMKrg7ZWTMR47qoq0cA4wmKDZFKsupRuk+Y038KKKhJaRB6kDz3SzQ14MiPK3tp7KbZt3xcfN3fdEjKFJlQF5p5OYliesQBAma8/8Apb4LfucWxTJblT3ccyDaxbHU0UVKZkkrZblEKJwXg19bIzW9p0zJ4/jVIw3D8ZcbLawpY7/bbY+thRRWnENBMfP6FbzGwUjiXAcWott3fOILqGTQx0ObWD5mrZ2ITEh2uCxIuABj3gAgSDnWdT7AdvPQooVS7ZRqRIdCs3FOz1vFWbneoM4QtacboQpMbwV2kHefEAjIGwWOUKXw4AO3MmvwuH5iuKK3QAiIQ6znB0grq4pwq/csEi1BJGmZPH21K9FfALy8UsG5bhIuScyn/s3I2M71zRRCIlCeTY8lrvaHBXO7gLqWOUyJygKddd5zCs+ucDxGc6SfDMIJ9xGnlPTeiiggwnaZ8KccKwt6zeDdwgUwFICI2UjXMFYj+OtNOK8Kv3C15bCM4yhQ53WZ0YXRkIHgp1rmisnWVk2AUK3wrEWmzBZhjJDII13M/qB9lMeFXsczMIT1ZQMVMHMoGZlA01J0HSKKK01oOqy9xhY32r7N3/puJCW5AuvBLJtmPnWrdgsLibOCtXEQM1tZa2WAzqJLqG1AaNQToSIMAyCit1dEm4XHmr7wvFtlw5cQ19DcbqFMIwUeICnLPXKDWX+krgl7Dt3eFsqtt5bMGtr4CAqqoEbDfbeiig5BKIDEqk8B4Filud4qaqryCy84KMGUkN1BI+FRn4RiWKzbPMfv1hQNIIzGY8fb40UUfUysR4VYcBhsVbuMLKEeuqkuoyqDpO86H41U+L8AxRdiyZmLSWzJr49aKKjUEDxLjhHAMSrGbXT75PEfhVZOH9lbjqjMDL3smUFdEVQztM78ygD2miinqJsAh1m3lTe0PZc22Hc2iBJDDPMyCQeZvb8RSxeA3v7P85f31zRRHG5Qw2QvpuAXo9T85f31GxvZ++Gf7H9198nifwqKKouKmVQm4DiP7P8AOT/ypKezmJ/svzk/8qKKWqmUzSbEr0O11sNhbLuGJKIFVCpJOQeJAEAdT8adcJ4gblsO1tlnYSp/XRRSeKxFRpABXRo0GGlmi8r/2Q==)"
      ],
      "metadata": {
        "id": "TO1tQAiTwOaG"
      }
    },
    {
      "cell_type": "markdown",
      "source": [
        "##### **Project Type**    - Unsupervised\n",
        "##### **Contribution**    - Individual\n",
        "##### **Team Member 1** - Priyabrata Biswal\n",
        "##### **Team Member 2** - Yamini Mehendwariya\n"
      ],
      "metadata": {
        "id": "beRrZCGUAJYm"
      }
    },
    {
      "cell_type": "markdown",
      "source": [
        "# **Project Summary -**"
      ],
      "metadata": {
        "id": "FJNUwmbgGyua"
      }
    },
    {
      "cell_type": "markdown",
      "source": [
        "This data set consists of tv shows and movies available on netflix as of 2019.\n",
        "The dataset is collected from flexible which is a third-party Netflix Search Engine.In 2018,they realesed a interesting report which shows that the number of tv shows on Netflix has nearly tripled since 2010. The Streaming Service's number of movies has decreased by more than 2000 titles since 2010,While its number of TV Shows has nearly Tripled. It will be interesting to explore what all other insights can be obtained from the same dataset.\n",
        "  \n",
        "  Integrating this dataset with other external datasets such as IMDB ratings,\n",
        "  rotten tomatoes can also provide many interesting findings."
      ],
      "metadata": {
        "id": "F6v_1wHtG2nS"
      }
    },
    {
      "cell_type": "markdown",
      "source": [
        "# **GitHub Link -**"
      ],
      "metadata": {
        "id": "w6K7xa23Elo4"
      }
    },
    {
      "cell_type": "markdown",
      "source": [
        "Priyabrata Biswal https://github.com/prbrtbiswal/Unsupervised-ML            \n",
        "Yamini Mehendwariya https://github.com/yamini1998m/Unsupervised-ML-Submission.ipynb"
      ],
      "metadata": {
        "id": "WcRe2R9k3Dtp"
      }
    },
    {
      "cell_type": "markdown",
      "source": [
        "# **Problem Statement**\n"
      ],
      "metadata": {
        "id": "yQaldy8SH6Dl"
      }
    },
    {
      "cell_type": "markdown",
      "source": [
        "1.Netflix is the world's largest online streaming service provider, with over 220 million subscribers as of 2022-Q2. It is crucial that they effectively cluster the shows that are hosted on their platform in order to enhance the user experience, thereby preventing subscriber churn.\n",
        "2. We will be able to understand the shows that are similar to and different from one another by creating clusters, which may be leveraged to offer the consumers personalized show suggestions depending on their preferences.\n",
        "3.The goal of this project is to classify/group the Netflix shows into certain clusters such that the shows within a cluster are similar to each other and the shows in different clusters are dissimilar to each other.\n",
        "\n",
        "\n"
      ],
      "metadata": {
        "id": "DpeJGUA3kjGy"
      }
    },
    {
      "cell_type": "markdown",
      "source": [
        "# **General Guidelines** : -  "
      ],
      "metadata": {
        "id": "mDgbUHAGgjLW"
      }
    },
    {
      "cell_type": "markdown",
      "source": [
        "1.   Well-structured, formatted, and commented code is required.\n",
        "2.   Exception Handling, Production Grade Code & Deployment Ready Code will be a plus. Those students will be awarded some additional credits.\n",
        "     \n",
        "     The additional credits will have advantages over other students during Star Student selection.\n",
        "       \n",
        "             [ Note: - Deployment Ready Code is defined as, the whole .ipynb notebook should be executable in one go\n",
        "                       without a single error logged. ]\n",
        "\n",
        "3.   Each and every logic should have proper comments.\n",
        "4. You may add as many number of charts you want. Make Sure for each and every chart the following format should be answered.\n",
        "        \n",
        "\n",
        "```\n",
        "# Chart visualization code\n",
        "```\n",
        "            \n",
        "\n",
        "*   Why did you pick the specific chart?\n",
        "*   What is/are the insight(s) found from the chart?\n",
        "* Will the gained insights help creating a positive business impact?\n",
        "Are there any insights that lead to negative growth? Justify with specific reason.\n",
        "\n",
        "5. You have to create at least 15 logical & meaningful charts having important insights.\n",
        "\n",
        "\n",
        "[ Hints : - Do the Vizualization in  a structured way while following \"UBM\" Rule.\n",
        "\n",
        "U - Univariate Analysis,\n",
        "\n",
        "B - Bivariate Analysis (Numerical - Categorical, Numerical - Numerical, Categorical - Categorical)\n",
        "\n",
        "M - Multivariate Analysis\n",
        " ]\n",
        "\n",
        "\n",
        "\n",
        "\n",
        "\n",
        "6. You may add more ml algorithms for model creation. Make sure for each and every algorithm, the following format should be answered.\n",
        "\n",
        "\n",
        "*   Explain the ML Model used and it's performance using Evaluation metric Score Chart.\n",
        "\n",
        "\n",
        "*   Cross- Validation & Hyperparameter Tuning\n",
        "\n",
        "*   Have you seen any improvement? Note down the improvement with updates Evaluation metric Score Chart.\n",
        "\n",
        "*   Explain each evaluation metric's indication towards business and the business impact pf the ML model used.\n",
        "\n",
        "\n",
        "\n",
        "\n",
        "\n",
        "\n",
        "\n",
        "\n",
        "\n",
        "\n",
        "\n",
        "\n",
        "\n",
        "\n",
        "\n",
        "\n",
        "\n",
        "\n"
      ],
      "metadata": {
        "id": "ZrxVaUj-hHfC"
      }
    },
    {
      "cell_type": "markdown",
      "source": [
        "# ***Let's Begin !***"
      ],
      "metadata": {
        "id": "O_i_v8NEhb9l"
      }
    },
    {
      "cell_type": "markdown",
      "source": [
        "## ***1. Know Your Data***"
      ],
      "metadata": {
        "id": "HhfV-JJviCcP"
      }
    },
    {
      "cell_type": "markdown",
      "source": [
        "### Import Libraries"
      ],
      "metadata": {
        "id": "Y3lxredqlCYt"
      }
    },
    {
      "cell_type": "code",
      "source": [
        "# Import Libraries\n",
        "import pandas as pd\n",
        "import numpy as np\n",
        "import matplotlib.pyplot as plt\n",
        "import seaborn as sns\n",
        "from datetime import datetime as dt\n",
        "\n",
        "import warnings\n",
        "warnings.filterwarnings('ignore')\n",
        "\n",
        "from wordcloud import WordCloud, STOPWORDS\n",
        "import re, string, unicodedata\n",
        "import nltk\n",
        "#import inflect\n",
        "from bs4 import BeautifulSoup\n",
        "from nltk import word_tokenize, sent_tokenize\n",
        "from nltk.corpus import stopwords\n",
        "from nltk.stem import LancasterStemmer, WordNetLemmatizer\n",
        "from sklearn.feature_extraction.text import TfidfVectorizer\n",
        "from sklearn.decomposition import PCA\n",
        "\n",
        "from nltk.stem import WordNetLemmatizer\n",
        "nltk.download('wordnet')\n",
        "import nltk\n",
        "nltk.download('stopwords')\n",
        "from nltk.corpus import stopwords\n",
        "import string\n",
        "string.punctuation\n",
        "nltk.download('omw-1.4')\n",
        "from nltk.tokenize import TweetTokenizer\n",
        "\n",
        "from sklearn.cluster import KMeans\n",
        "from sklearn.metrics import silhouette_score\n",
        "from sklearn.cluster import AgglomerativeClustering\n",
        "import scipy.cluster.hierarchy as shc\n",
        "\n",
        "from sklearn.feature_extraction.text import CountVectorizer\n",
        "from sklearn.metrics.pairwise import cosine_similarity\n",
        "\n",
        "%matplotlib inline\n",
        "sns.set()"
      ],
      "metadata": {
        "id": "M8Vqi-pPk-HR",
        "colab": {
          "base_uri": "https://localhost:8080/"
        },
        "outputId": "2bb6b679-4090-46fb-9704-1214592808ed"
      },
      "execution_count": 1,
      "outputs": [
        {
          "output_type": "stream",
          "name": "stderr",
          "text": [
            "[nltk_data] Downloading package wordnet to /root/nltk_data...\n",
            "[nltk_data] Downloading package stopwords to /root/nltk_data...\n",
            "[nltk_data]   Unzipping corpora/stopwords.zip.\n",
            "[nltk_data] Downloading package omw-1.4 to /root/nltk_data...\n"
          ]
        }
      ]
    },
    {
      "cell_type": "markdown",
      "source": [
        "### Dataset Loading"
      ],
      "metadata": {
        "id": "3RnN4peoiCZX"
      }
    },
    {
      "cell_type": "code",
      "source": [
        "from google.colab import drive\n",
        "drive.mount('/content/drive')"
      ],
      "metadata": {
        "colab": {
          "base_uri": "https://localhost:8080/"
        },
        "id": "7UwfDdcI3oMK",
        "outputId": "f2035ee1-eb84-40b0-c6cc-9fc253835395"
      },
      "execution_count": 2,
      "outputs": [
        {
          "output_type": "stream",
          "name": "stdout",
          "text": [
            "Mounted at /content/drive\n"
          ]
        }
      ]
    },
    {
      "cell_type": "code",
      "source": [
        "Data_set=pd.read_csv('/content/drive/MyDrive/NETFLIX MOVIES AND TV SHOWS CLUSTERING.csv')\n",
        "df=Data_set.copy()"
      ],
      "metadata": {
        "id": "inX4-C4g34T0"
      },
      "execution_count": 3,
      "outputs": []
    },
    {
      "cell_type": "markdown",
      "source": [
        "### Dataset First View"
      ],
      "metadata": {
        "id": "x71ZqKXriCWQ"
      }
    },
    {
      "cell_type": "code",
      "source": [
        "# Dataset First Look\n",
        "df.head()"
      ],
      "metadata": {
        "id": "LWNFOSvLl09H",
        "colab": {
          "base_uri": "https://localhost:8080/",
          "height": 694
        },
        "outputId": "3ff3e43b-d3e3-49d8-c497-3429f4375441"
      },
      "execution_count": 5,
      "outputs": [
        {
          "output_type": "execute_result",
          "data": {
            "text/plain": [
              "  show_id     type  title           director  \\\n",
              "0      s1  TV Show     3%                NaN   \n",
              "1      s2    Movie   7:19  Jorge Michel Grau   \n",
              "2      s3    Movie  23:59       Gilbert Chan   \n",
              "3      s4    Movie      9        Shane Acker   \n",
              "4      s5    Movie     21     Robert Luketic   \n",
              "\n",
              "                                                cast        country  \\\n",
              "0  João Miguel, Bianca Comparato, Michel Gomes, R...         Brazil   \n",
              "1  Demián Bichir, Héctor Bonilla, Oscar Serrano, ...         Mexico   \n",
              "2  Tedd Chan, Stella Chung, Henley Hii, Lawrence ...      Singapore   \n",
              "3  Elijah Wood, John C. Reilly, Jennifer Connelly...  United States   \n",
              "4  Jim Sturgess, Kevin Spacey, Kate Bosworth, Aar...  United States   \n",
              "\n",
              "          date_added  release_year rating   duration  \\\n",
              "0    August 14, 2020          2020  TV-MA  4 Seasons   \n",
              "1  December 23, 2016          2016  TV-MA     93 min   \n",
              "2  December 20, 2018          2011      R     78 min   \n",
              "3  November 16, 2017          2009  PG-13     80 min   \n",
              "4    January 1, 2020          2008  PG-13    123 min   \n",
              "\n",
              "                                           listed_in  \\\n",
              "0  International TV Shows, TV Dramas, TV Sci-Fi &...   \n",
              "1                       Dramas, International Movies   \n",
              "2                Horror Movies, International Movies   \n",
              "3  Action & Adventure, Independent Movies, Sci-Fi...   \n",
              "4                                             Dramas   \n",
              "\n",
              "                                         description  \n",
              "0  In a future where the elite inhabit an island ...  \n",
              "1  After a devastating earthquake hits Mexico Cit...  \n",
              "2  When an army recruit is found dead, his fellow...  \n",
              "3  In a postapocalyptic world, rag-doll robots hi...  \n",
              "4  A brilliant group of students become card-coun...  "
            ],
            "text/html": [
              "\n",
              "  <div id=\"df-d109c0e9-b548-4ce3-9733-f9228b3363f9\" class=\"colab-df-container\">\n",
              "    <div>\n",
              "<style scoped>\n",
              "    .dataframe tbody tr th:only-of-type {\n",
              "        vertical-align: middle;\n",
              "    }\n",
              "\n",
              "    .dataframe tbody tr th {\n",
              "        vertical-align: top;\n",
              "    }\n",
              "\n",
              "    .dataframe thead th {\n",
              "        text-align: right;\n",
              "    }\n",
              "</style>\n",
              "<table border=\"1\" class=\"dataframe\">\n",
              "  <thead>\n",
              "    <tr style=\"text-align: right;\">\n",
              "      <th></th>\n",
              "      <th>show_id</th>\n",
              "      <th>type</th>\n",
              "      <th>title</th>\n",
              "      <th>director</th>\n",
              "      <th>cast</th>\n",
              "      <th>country</th>\n",
              "      <th>date_added</th>\n",
              "      <th>release_year</th>\n",
              "      <th>rating</th>\n",
              "      <th>duration</th>\n",
              "      <th>listed_in</th>\n",
              "      <th>description</th>\n",
              "    </tr>\n",
              "  </thead>\n",
              "  <tbody>\n",
              "    <tr>\n",
              "      <th>0</th>\n",
              "      <td>s1</td>\n",
              "      <td>TV Show</td>\n",
              "      <td>3%</td>\n",
              "      <td>NaN</td>\n",
              "      <td>João Miguel, Bianca Comparato, Michel Gomes, R...</td>\n",
              "      <td>Brazil</td>\n",
              "      <td>August 14, 2020</td>\n",
              "      <td>2020</td>\n",
              "      <td>TV-MA</td>\n",
              "      <td>4 Seasons</td>\n",
              "      <td>International TV Shows, TV Dramas, TV Sci-Fi &amp;...</td>\n",
              "      <td>In a future where the elite inhabit an island ...</td>\n",
              "    </tr>\n",
              "    <tr>\n",
              "      <th>1</th>\n",
              "      <td>s2</td>\n",
              "      <td>Movie</td>\n",
              "      <td>7:19</td>\n",
              "      <td>Jorge Michel Grau</td>\n",
              "      <td>Demián Bichir, Héctor Bonilla, Oscar Serrano, ...</td>\n",
              "      <td>Mexico</td>\n",
              "      <td>December 23, 2016</td>\n",
              "      <td>2016</td>\n",
              "      <td>TV-MA</td>\n",
              "      <td>93 min</td>\n",
              "      <td>Dramas, International Movies</td>\n",
              "      <td>After a devastating earthquake hits Mexico Cit...</td>\n",
              "    </tr>\n",
              "    <tr>\n",
              "      <th>2</th>\n",
              "      <td>s3</td>\n",
              "      <td>Movie</td>\n",
              "      <td>23:59</td>\n",
              "      <td>Gilbert Chan</td>\n",
              "      <td>Tedd Chan, Stella Chung, Henley Hii, Lawrence ...</td>\n",
              "      <td>Singapore</td>\n",
              "      <td>December 20, 2018</td>\n",
              "      <td>2011</td>\n",
              "      <td>R</td>\n",
              "      <td>78 min</td>\n",
              "      <td>Horror Movies, International Movies</td>\n",
              "      <td>When an army recruit is found dead, his fellow...</td>\n",
              "    </tr>\n",
              "    <tr>\n",
              "      <th>3</th>\n",
              "      <td>s4</td>\n",
              "      <td>Movie</td>\n",
              "      <td>9</td>\n",
              "      <td>Shane Acker</td>\n",
              "      <td>Elijah Wood, John C. Reilly, Jennifer Connelly...</td>\n",
              "      <td>United States</td>\n",
              "      <td>November 16, 2017</td>\n",
              "      <td>2009</td>\n",
              "      <td>PG-13</td>\n",
              "      <td>80 min</td>\n",
              "      <td>Action &amp; Adventure, Independent Movies, Sci-Fi...</td>\n",
              "      <td>In a postapocalyptic world, rag-doll robots hi...</td>\n",
              "    </tr>\n",
              "    <tr>\n",
              "      <th>4</th>\n",
              "      <td>s5</td>\n",
              "      <td>Movie</td>\n",
              "      <td>21</td>\n",
              "      <td>Robert Luketic</td>\n",
              "      <td>Jim Sturgess, Kevin Spacey, Kate Bosworth, Aar...</td>\n",
              "      <td>United States</td>\n",
              "      <td>January 1, 2020</td>\n",
              "      <td>2008</td>\n",
              "      <td>PG-13</td>\n",
              "      <td>123 min</td>\n",
              "      <td>Dramas</td>\n",
              "      <td>A brilliant group of students become card-coun...</td>\n",
              "    </tr>\n",
              "  </tbody>\n",
              "</table>\n",
              "</div>\n",
              "    <div class=\"colab-df-buttons\">\n",
              "\n",
              "  <div class=\"colab-df-container\">\n",
              "    <button class=\"colab-df-convert\" onclick=\"convertToInteractive('df-d109c0e9-b548-4ce3-9733-f9228b3363f9')\"\n",
              "            title=\"Convert this dataframe to an interactive table.\"\n",
              "            style=\"display:none;\">\n",
              "\n",
              "  <svg xmlns=\"http://www.w3.org/2000/svg\" height=\"24px\" viewBox=\"0 -960 960 960\">\n",
              "    <path d=\"M120-120v-720h720v720H120Zm60-500h600v-160H180v160Zm220 220h160v-160H400v160Zm0 220h160v-160H400v160ZM180-400h160v-160H180v160Zm440 0h160v-160H620v160ZM180-180h160v-160H180v160Zm440 0h160v-160H620v160Z\"/>\n",
              "  </svg>\n",
              "    </button>\n",
              "\n",
              "  <style>\n",
              "    .colab-df-container {\n",
              "      display:flex;\n",
              "      gap: 12px;\n",
              "    }\n",
              "\n",
              "    .colab-df-convert {\n",
              "      background-color: #E8F0FE;\n",
              "      border: none;\n",
              "      border-radius: 50%;\n",
              "      cursor: pointer;\n",
              "      display: none;\n",
              "      fill: #1967D2;\n",
              "      height: 32px;\n",
              "      padding: 0 0 0 0;\n",
              "      width: 32px;\n",
              "    }\n",
              "\n",
              "    .colab-df-convert:hover {\n",
              "      background-color: #E2EBFA;\n",
              "      box-shadow: 0px 1px 2px rgba(60, 64, 67, 0.3), 0px 1px 3px 1px rgba(60, 64, 67, 0.15);\n",
              "      fill: #174EA6;\n",
              "    }\n",
              "\n",
              "    .colab-df-buttons div {\n",
              "      margin-bottom: 4px;\n",
              "    }\n",
              "\n",
              "    [theme=dark] .colab-df-convert {\n",
              "      background-color: #3B4455;\n",
              "      fill: #D2E3FC;\n",
              "    }\n",
              "\n",
              "    [theme=dark] .colab-df-convert:hover {\n",
              "      background-color: #434B5C;\n",
              "      box-shadow: 0px 1px 3px 1px rgba(0, 0, 0, 0.15);\n",
              "      filter: drop-shadow(0px 1px 2px rgba(0, 0, 0, 0.3));\n",
              "      fill: #FFFFFF;\n",
              "    }\n",
              "  </style>\n",
              "\n",
              "    <script>\n",
              "      const buttonEl =\n",
              "        document.querySelector('#df-d109c0e9-b548-4ce3-9733-f9228b3363f9 button.colab-df-convert');\n",
              "      buttonEl.style.display =\n",
              "        google.colab.kernel.accessAllowed ? 'block' : 'none';\n",
              "\n",
              "      async function convertToInteractive(key) {\n",
              "        const element = document.querySelector('#df-d109c0e9-b548-4ce3-9733-f9228b3363f9');\n",
              "        const dataTable =\n",
              "          await google.colab.kernel.invokeFunction('convertToInteractive',\n",
              "                                                    [key], {});\n",
              "        if (!dataTable) return;\n",
              "\n",
              "        const docLinkHtml = 'Like what you see? Visit the ' +\n",
              "          '<a target=\"_blank\" href=https://colab.research.google.com/notebooks/data_table.ipynb>data table notebook</a>'\n",
              "          + ' to learn more about interactive tables.';\n",
              "        element.innerHTML = '';\n",
              "        dataTable['output_type'] = 'display_data';\n",
              "        await google.colab.output.renderOutput(dataTable, element);\n",
              "        const docLink = document.createElement('div');\n",
              "        docLink.innerHTML = docLinkHtml;\n",
              "        element.appendChild(docLink);\n",
              "      }\n",
              "    </script>\n",
              "  </div>\n",
              "\n",
              "\n",
              "<div id=\"df-d74de9d7-4ea1-4def-a10c-ba2636450167\">\n",
              "  <button class=\"colab-df-quickchart\" onclick=\"quickchart('df-d74de9d7-4ea1-4def-a10c-ba2636450167')\"\n",
              "            title=\"Suggest charts.\"\n",
              "            style=\"display:none;\">\n",
              "\n",
              "<svg xmlns=\"http://www.w3.org/2000/svg\" height=\"24px\"viewBox=\"0 0 24 24\"\n",
              "     width=\"24px\">\n",
              "    <g>\n",
              "        <path d=\"M19 3H5c-1.1 0-2 .9-2 2v14c0 1.1.9 2 2 2h14c1.1 0 2-.9 2-2V5c0-1.1-.9-2-2-2zM9 17H7v-7h2v7zm4 0h-2V7h2v10zm4 0h-2v-4h2v4z\"/>\n",
              "    </g>\n",
              "</svg>\n",
              "  </button>\n",
              "\n",
              "<style>\n",
              "  .colab-df-quickchart {\n",
              "      --bg-color: #E8F0FE;\n",
              "      --fill-color: #1967D2;\n",
              "      --hover-bg-color: #E2EBFA;\n",
              "      --hover-fill-color: #174EA6;\n",
              "      --disabled-fill-color: #AAA;\n",
              "      --disabled-bg-color: #DDD;\n",
              "  }\n",
              "\n",
              "  [theme=dark] .colab-df-quickchart {\n",
              "      --bg-color: #3B4455;\n",
              "      --fill-color: #D2E3FC;\n",
              "      --hover-bg-color: #434B5C;\n",
              "      --hover-fill-color: #FFFFFF;\n",
              "      --disabled-bg-color: #3B4455;\n",
              "      --disabled-fill-color: #666;\n",
              "  }\n",
              "\n",
              "  .colab-df-quickchart {\n",
              "    background-color: var(--bg-color);\n",
              "    border: none;\n",
              "    border-radius: 50%;\n",
              "    cursor: pointer;\n",
              "    display: none;\n",
              "    fill: var(--fill-color);\n",
              "    height: 32px;\n",
              "    padding: 0;\n",
              "    width: 32px;\n",
              "  }\n",
              "\n",
              "  .colab-df-quickchart:hover {\n",
              "    background-color: var(--hover-bg-color);\n",
              "    box-shadow: 0 1px 2px rgba(60, 64, 67, 0.3), 0 1px 3px 1px rgba(60, 64, 67, 0.15);\n",
              "    fill: var(--button-hover-fill-color);\n",
              "  }\n",
              "\n",
              "  .colab-df-quickchart-complete:disabled,\n",
              "  .colab-df-quickchart-complete:disabled:hover {\n",
              "    background-color: var(--disabled-bg-color);\n",
              "    fill: var(--disabled-fill-color);\n",
              "    box-shadow: none;\n",
              "  }\n",
              "\n",
              "  .colab-df-spinner {\n",
              "    border: 2px solid var(--fill-color);\n",
              "    border-color: transparent;\n",
              "    border-bottom-color: var(--fill-color);\n",
              "    animation:\n",
              "      spin 1s steps(1) infinite;\n",
              "  }\n",
              "\n",
              "  @keyframes spin {\n",
              "    0% {\n",
              "      border-color: transparent;\n",
              "      border-bottom-color: var(--fill-color);\n",
              "      border-left-color: var(--fill-color);\n",
              "    }\n",
              "    20% {\n",
              "      border-color: transparent;\n",
              "      border-left-color: var(--fill-color);\n",
              "      border-top-color: var(--fill-color);\n",
              "    }\n",
              "    30% {\n",
              "      border-color: transparent;\n",
              "      border-left-color: var(--fill-color);\n",
              "      border-top-color: var(--fill-color);\n",
              "      border-right-color: var(--fill-color);\n",
              "    }\n",
              "    40% {\n",
              "      border-color: transparent;\n",
              "      border-right-color: var(--fill-color);\n",
              "      border-top-color: var(--fill-color);\n",
              "    }\n",
              "    60% {\n",
              "      border-color: transparent;\n",
              "      border-right-color: var(--fill-color);\n",
              "    }\n",
              "    80% {\n",
              "      border-color: transparent;\n",
              "      border-right-color: var(--fill-color);\n",
              "      border-bottom-color: var(--fill-color);\n",
              "    }\n",
              "    90% {\n",
              "      border-color: transparent;\n",
              "      border-bottom-color: var(--fill-color);\n",
              "    }\n",
              "  }\n",
              "</style>\n",
              "\n",
              "  <script>\n",
              "    async function quickchart(key) {\n",
              "      const quickchartButtonEl =\n",
              "        document.querySelector('#' + key + ' button');\n",
              "      quickchartButtonEl.disabled = true;  // To prevent multiple clicks.\n",
              "      quickchartButtonEl.classList.add('colab-df-spinner');\n",
              "      try {\n",
              "        const charts = await google.colab.kernel.invokeFunction(\n",
              "            'suggestCharts', [key], {});\n",
              "      } catch (error) {\n",
              "        console.error('Error during call to suggestCharts:', error);\n",
              "      }\n",
              "      quickchartButtonEl.classList.remove('colab-df-spinner');\n",
              "      quickchartButtonEl.classList.add('colab-df-quickchart-complete');\n",
              "    }\n",
              "    (() => {\n",
              "      let quickchartButtonEl =\n",
              "        document.querySelector('#df-d74de9d7-4ea1-4def-a10c-ba2636450167 button');\n",
              "      quickchartButtonEl.style.display =\n",
              "        google.colab.kernel.accessAllowed ? 'block' : 'none';\n",
              "    })();\n",
              "  </script>\n",
              "</div>\n",
              "    </div>\n",
              "  </div>\n"
            ]
          },
          "metadata": {},
          "execution_count": 5
        }
      ]
    },
    {
      "cell_type": "markdown",
      "source": [
        "### Dataset Rows & Columns count"
      ],
      "metadata": {
        "id": "7hBIi_osiCS2"
      }
    },
    {
      "cell_type": "code",
      "source": [
        "# Dataset Rows & Columns count\n",
        "df.shape"
      ],
      "metadata": {
        "id": "Kllu7SJgmLij",
        "colab": {
          "base_uri": "https://localhost:8080/"
        },
        "outputId": "17d0d3e4-f977-40cf-892f-b8dea884e48d"
      },
      "execution_count": 6,
      "outputs": [
        {
          "output_type": "execute_result",
          "data": {
            "text/plain": [
              "(7787, 12)"
            ]
          },
          "metadata": {},
          "execution_count": 6
        }
      ]
    },
    {
      "cell_type": "markdown",
      "source": [
        "### Dataset Information"
      ],
      "metadata": {
        "id": "JlHwYmJAmNHm"
      }
    },
    {
      "cell_type": "code",
      "source": [
        "# Dataset Info\n",
        "df.info()"
      ],
      "metadata": {
        "id": "e9hRXRi6meOf",
        "colab": {
          "base_uri": "https://localhost:8080/"
        },
        "outputId": "fb0e8295-31c4-4660-d0d6-4a87f3df9047"
      },
      "execution_count": 7,
      "outputs": [
        {
          "output_type": "stream",
          "name": "stdout",
          "text": [
            "<class 'pandas.core.frame.DataFrame'>\n",
            "RangeIndex: 7787 entries, 0 to 7786\n",
            "Data columns (total 12 columns):\n",
            " #   Column        Non-Null Count  Dtype \n",
            "---  ------        --------------  ----- \n",
            " 0   show_id       7787 non-null   object\n",
            " 1   type          7787 non-null   object\n",
            " 2   title         7787 non-null   object\n",
            " 3   director      5398 non-null   object\n",
            " 4   cast          7069 non-null   object\n",
            " 5   country       7280 non-null   object\n",
            " 6   date_added    7777 non-null   object\n",
            " 7   release_year  7787 non-null   int64 \n",
            " 8   rating        7780 non-null   object\n",
            " 9   duration      7787 non-null   object\n",
            " 10  listed_in     7787 non-null   object\n",
            " 11  description   7787 non-null   object\n",
            "dtypes: int64(1), object(11)\n",
            "memory usage: 730.2+ KB\n"
          ]
        }
      ]
    },
    {
      "cell_type": "markdown",
      "source": [
        "#### Duplicate Values"
      ],
      "metadata": {
        "id": "35m5QtbWiB9F"
      }
    },
    {
      "cell_type": "code",
      "source": [
        "# Dataset Duplicate Value Count\n",
        "df.duplicated().value_counts()"
      ],
      "metadata": {
        "id": "1sLdpKYkmox0",
        "colab": {
          "base_uri": "https://localhost:8080/"
        },
        "outputId": "4e35b83c-4a14-41b3-9734-16a1bc56d764"
      },
      "execution_count": 8,
      "outputs": [
        {
          "output_type": "execute_result",
          "data": {
            "text/plain": [
              "False    7787\n",
              "dtype: int64"
            ]
          },
          "metadata": {},
          "execution_count": 8
        }
      ]
    },
    {
      "cell_type": "markdown",
      "source": [
        "#### Missing Values/Null Values"
      ],
      "metadata": {
        "id": "PoPl-ycgm1ru"
      }
    },
    {
      "cell_type": "code",
      "source": [
        "# Missing Values/Null Values Count\n",
        "df.isna().sum()"
      ],
      "metadata": {
        "id": "GgHWkxvamxVg",
        "colab": {
          "base_uri": "https://localhost:8080/"
        },
        "outputId": "a87f6e26-b3ca-46ae-fdad-8f88c363f78b"
      },
      "execution_count": 9,
      "outputs": [
        {
          "output_type": "execute_result",
          "data": {
            "text/plain": [
              "show_id            0\n",
              "type               0\n",
              "title              0\n",
              "director        2389\n",
              "cast             718\n",
              "country          507\n",
              "date_added        10\n",
              "release_year       0\n",
              "rating             7\n",
              "duration           0\n",
              "listed_in          0\n",
              "description        0\n",
              "dtype: int64"
            ]
          },
          "metadata": {},
          "execution_count": 9
        }
      ]
    },
    {
      "cell_type": "code",
      "source": [
        "# Visualizing the missing values\n",
        "plt.figure(figsize=(10,5))\n",
        "sns.heatmap(df.isnull(), cbar=False)"
      ],
      "metadata": {
        "id": "3q5wnI3om9sJ",
        "colab": {
          "base_uri": "https://localhost:8080/",
          "height": 461
        },
        "outputId": "53a051e4-c630-439c-b937-97b3d1a90f94"
      },
      "execution_count": 10,
      "outputs": [
        {
          "output_type": "execute_result",
          "data": {
            "text/plain": [
              "<Axes: >"
            ]
          },
          "metadata": {},
          "execution_count": 10
        },
        {
          "output_type": "display_data",
          "data": {
            "text/plain": [
              "<Figure size 1000x500 with 1 Axes>"
            ],
            "image/png": "[encoded data removed]"
          },
          "metadata": {}
        }
      ]
    },
    {
      "cell_type": "markdown",
      "source": [
        "### What did you know about your dataset?"
      ],
      "metadata": {
        "id": "H0kj-8xxnORC"
      }
    },
    {
      "cell_type": "markdown",
      "source": [
        "There are many missing values in director, cast, country, date_added, and rating columns."
      ],
      "metadata": {
        "id": "gfoNAAC-nUe_"
      }
    },
    {
      "cell_type": "markdown",
      "source": [
        "## ***2. Understanding Your Variables***"
      ],
      "metadata": {
        "id": "nA9Y7ga8ng1Z"
      }
    },
    {
      "cell_type": "code",
      "source": [
        "# Dataset Columns\n",
        "df.columns"
      ],
      "metadata": {
        "id": "j7xfkqrt5Ag5",
        "colab": {
          "base_uri": "https://localhost:8080/"
        },
        "outputId": "f343b96c-ff2a-4187-f89e-1690f22f0de4"
      },
      "execution_count": 14,
      "outputs": [
        {
          "output_type": "execute_result",
          "data": {
            "text/plain": [
              "Index(['show_id', 'type', 'title', 'director', 'cast', 'country', 'date_added',\n",
              "       'release_year', 'rating', 'duration', 'listed_in', 'description'],\n",
              "      dtype='object')"
            ]
          },
          "metadata": {},
          "execution_count": 14
        }
      ]
    },
    {
      "cell_type": "code",
      "source": [
        "# Dataset Describe\n",
        "df.describe()"
      ],
      "metadata": {
        "id": "DnOaZdaE5Q5t",
        "colab": {
          "base_uri": "https://localhost:8080/",
          "height": 300
        },
        "outputId": "978c0e25-3e2d-4c0b-9d16-6241160c452b"
      },
      "execution_count": 15,
      "outputs": [
        {
          "output_type": "execute_result",
          "data": {
            "text/plain": [
              "       release_year\n",
              "count   7787.000000\n",
              "mean    2013.932580\n",
              "std        8.757395\n",
              "min     1925.000000\n",
              "25%     2013.000000\n",
              "50%     2017.000000\n",
              "75%     2018.000000\n",
              "max     2021.000000"
            ],
            "text/html": [
              "\n",
              "  <div id=\"df-e49d553a-5123-4796-bec2-9f09fdee3b42\" class=\"colab-df-container\">\n",
              "    <div>\n",
              "<style scoped>\n",
              "    .dataframe tbody tr th:only-of-type {\n",
              "        vertical-align: middle;\n",
              "    }\n",
              "\n",
              "    .dataframe tbody tr th {\n",
              "        vertical-align: top;\n",
              "    }\n",
              "\n",
              "    .dataframe thead th {\n",
              "        text-align: right;\n",
              "    }\n",
              "</style>\n",
              "<table border=\"1\" class=\"dataframe\">\n",
              "  <thead>\n",
              "    <tr style=\"text-align: right;\">\n",
              "      <th></th>\n",
              "      <th>release_year</th>\n",
              "    </tr>\n",
              "  </thead>\n",
              "  <tbody>\n",
              "    <tr>\n",
              "      <th>count</th>\n",
              "      <td>7787.000000</td>\n",
              "    </tr>\n",
              "    <tr>\n",
              "      <th>mean</th>\n",
              "      <td>2013.932580</td>\n",
              "    </tr>\n",
              "    <tr>\n",
              "      <th>std</th>\n",
              "      <td>8.757395</td>\n",
              "    </tr>\n",
              "    <tr>\n",
              "      <th>min</th>\n",
              "      <td>1925.000000</td>\n",
              "    </tr>\n",
              "    <tr>\n",
              "      <th>25%</th>\n",
              "      <td>2013.000000</td>\n",
              "    </tr>\n",
              "    <tr>\n",
              "      <th>50%</th>\n",
              "      <td>2017.000000</td>\n",
              "    </tr>\n",
              "    <tr>\n",
              "      <th>75%</th>\n",
              "      <td>2018.000000</td>\n",
              "    </tr>\n",
              "    <tr>\n",
              "      <th>max</th>\n",
              "      <td>2021.000000</td>\n",
              "    </tr>\n",
              "  </tbody>\n",
              "</table>\n",
              "</div>\n",
              "    <div class=\"colab-df-buttons\">\n",
              "\n",
              "  <div class=\"colab-df-container\">\n",
              "    <button class=\"colab-df-convert\" onclick=\"convertToInteractive('df-e49d553a-5123-4796-bec2-9f09fdee3b42')\"\n",
              "            title=\"Convert this dataframe to an interactive table.\"\n",
              "            style=\"display:none;\">\n",
              "\n",
              "  <svg xmlns=\"http://www.w3.org/2000/svg\" height=\"24px\" viewBox=\"0 -960 960 960\">\n",
              "    <path d=\"M120-120v-720h720v720H120Zm60-500h600v-160H180v160Zm220 220h160v-160H400v160Zm0 220h160v-160H400v160ZM180-400h160v-160H180v160Zm440 0h160v-160H620v160ZM180-180h160v-160H180v160Zm440 0h160v-160H620v160Z\"/>\n",
              "  </svg>\n",
              "    </button>\n",
              "\n",
              "  <style>\n",
              "    .colab-df-container {\n",
              "      display:flex;\n",
              "      gap: 12px;\n",
              "    }\n",
              "\n",
              "    .colab-df-convert {\n",
              "      background-color: #E8F0FE;\n",
              "      border: none;\n",
              "      border-radius: 50%;\n",
              "      cursor: pointer;\n",
              "      display: none;\n",
              "      fill: #1967D2;\n",
              "      height: 32px;\n",
              "      padding: 0 0 0 0;\n",
              "      width: 32px;\n",
              "    }\n",
              "\n",
              "    .colab-df-convert:hover {\n",
              "      background-color: #E2EBFA;\n",
              "      box-shadow: 0px 1px 2px rgba(60, 64, 67, 0.3), 0px 1px 3px 1px rgba(60, 64, 67, 0.15);\n",
              "      fill: #174EA6;\n",
              "    }\n",
              "\n",
              "    .colab-df-buttons div {\n",
              "      margin-bottom: 4px;\n",
              "    }\n",
              "\n",
              "    [theme=dark] .colab-df-convert {\n",
              "      background-color: #3B4455;\n",
              "      fill: #D2E3FC;\n",
              "    }\n",
              "\n",
              "    [theme=dark] .colab-df-convert:hover {\n",
              "      background-color: #434B5C;\n",
              "      box-shadow: 0px 1px 3px 1px rgba(0, 0, 0, 0.15);\n",
              "      filter: drop-shadow(0px 1px 2px rgba(0, 0, 0, 0.3));\n",
              "      fill: #FFFFFF;\n",
              "    }\n",
              "  </style>\n",
              "\n",
              "    <script>\n",
              "      const buttonEl =\n",
              "        document.querySelector('#df-e49d553a-5123-4796-bec2-9f09fdee3b42 button.colab-df-convert');\n",
              "      buttonEl.style.display =\n",
              "        google.colab.kernel.accessAllowed ? 'block' : 'none';\n",
              "\n",
              "      async function convertToInteractive(key) {\n",
              "        const element = document.querySelector('#df-e49d553a-5123-4796-bec2-9f09fdee3b42');\n",
              "        const dataTable =\n",
              "          await google.colab.kernel.invokeFunction('convertToInteractive',\n",
              "                                                    [key], {});\n",
              "        if (!dataTable) return;\n",
              "\n",
              "        const docLinkHtml = 'Like what you see? Visit the ' +\n",
              "          '<a target=\"_blank\" href=https://colab.research.google.com/notebooks/data_table.ipynb>data table notebook</a>'\n",
              "          + ' to learn more about interactive tables.';\n",
              "        element.innerHTML = '';\n",
              "        dataTable['output_type'] = 'display_data';\n",
              "        await google.colab.output.renderOutput(dataTable, element);\n",
              "        const docLink = document.createElement('div');\n",
              "        docLink.innerHTML = docLinkHtml;\n",
              "        element.appendChild(docLink);\n",
              "      }\n",
              "    </script>\n",
              "  </div>\n",
              "\n",
              "\n",
              "<div id=\"df-ef2db30d-7c45-4c96-b018-c6721d0bda8b\">\n",
              "  <button class=\"colab-df-quickchart\" onclick=\"quickchart('df-ef2db30d-7c45-4c96-b018-c6721d0bda8b')\"\n",
              "            title=\"Suggest charts.\"\n",
              "            style=\"display:none;\">\n",
              "\n",
              "<svg xmlns=\"http://www.w3.org/2000/svg\" height=\"24px\"viewBox=\"0 0 24 24\"\n",
              "     width=\"24px\">\n",
              "    <g>\n",
              "        <path d=\"M19 3H5c-1.1 0-2 .9-2 2v14c0 1.1.9 2 2 2h14c1.1 0 2-.9 2-2V5c0-1.1-.9-2-2-2zM9 17H7v-7h2v7zm4 0h-2V7h2v10zm4 0h-2v-4h2v4z\"/>\n",
              "    </g>\n",
              "</svg>\n",
              "  </button>\n",
              "\n",
              "<style>\n",
              "  .colab-df-quickchart {\n",
              "      --bg-color: #E8F0FE;\n",
              "      --fill-color: #1967D2;\n",
              "      --hover-bg-color: #E2EBFA;\n",
              "      --hover-fill-color: #174EA6;\n",
              "      --disabled-fill-color: #AAA;\n",
              "      --disabled-bg-color: #DDD;\n",
              "  }\n",
              "\n",
              "  [theme=dark] .colab-df-quickchart {\n",
              "      --bg-color: #3B4455;\n",
              "      --fill-color: #D2E3FC;\n",
              "      --hover-bg-color: #434B5C;\n",
              "      --hover-fill-color: #FFFFFF;\n",
              "      --disabled-bg-color: #3B4455;\n",
              "      --disabled-fill-color: #666;\n",
              "  }\n",
              "\n",
              "  .colab-df-quickchart {\n",
              "    background-color: var(--bg-color);\n",
              "    border: none;\n",
              "    border-radius: 50%;\n",
              "    cursor: pointer;\n",
              "    display: none;\n",
              "    fill: var(--fill-color);\n",
              "    height: 32px;\n",
              "    padding: 0;\n",
              "    width: 32px;\n",
              "  }\n",
              "\n",
              "  .colab-df-quickchart:hover {\n",
              "    background-color: var(--hover-bg-color);\n",
              "    box-shadow: 0 1px 2px rgba(60, 64, 67, 0.3), 0 1px 3px 1px rgba(60, 64, 67, 0.15);\n",
              "    fill: var(--button-hover-fill-color);\n",
              "  }\n",
              "\n",
              "  .colab-df-quickchart-complete:disabled,\n",
              "  .colab-df-quickchart-complete:disabled:hover {\n",
              "    background-color: var(--disabled-bg-color);\n",
              "    fill: var(--disabled-fill-color);\n",
              "    box-shadow: none;\n",
              "  }\n",
              "\n",
              "  .colab-df-spinner {\n",
              "    border: 2px solid var(--fill-color);\n",
              "    border-color: transparent;\n",
              "    border-bottom-color: var(--fill-color);\n",
              "    animation:\n",
              "      spin 1s steps(1) infinite;\n",
              "  }\n",
              "\n",
              "  @keyframes spin {\n",
              "    0% {\n",
              "      border-color: transparent;\n",
              "      border-bottom-color: var(--fill-color);\n",
              "      border-left-color: var(--fill-color);\n",
              "    }\n",
              "    20% {\n",
              "      border-color: transparent;\n",
              "      border-left-color: var(--fill-color);\n",
              "      border-top-color: var(--fill-color);\n",
              "    }\n",
              "    30% {\n",
              "      border-color: transparent;\n",
              "      border-left-color: var(--fill-color);\n",
              "      border-top-color: var(--fill-color);\n",
              "      border-right-color: var(--fill-color);\n",
              "    }\n",
              "    40% {\n",
              "      border-color: transparent;\n",
              "      border-right-color: var(--fill-color);\n",
              "      border-top-color: var(--fill-color);\n",
              "    }\n",
              "    60% {\n",
              "      border-color: transparent;\n",
              "      border-right-color: var(--fill-color);\n",
              "    }\n",
              "    80% {\n",
              "      border-color: transparent;\n",
              "      border-right-color: var(--fill-color);\n",
              "      border-bottom-color: var(--fill-color);\n",
              "    }\n",
              "    90% {\n",
              "      border-color: transparent;\n",
              "      border-bottom-color: var(--fill-color);\n",
              "    }\n",
              "  }\n",
              "</style>\n",
              "\n",
              "  <script>\n",
              "    async function quickchart(key) {\n",
              "      const quickchartButtonEl =\n",
              "        document.querySelector('#' + key + ' button');\n",
              "      quickchartButtonEl.disabled = true;  // To prevent multiple clicks.\n",
              "      quickchartButtonEl.classList.add('colab-df-spinner');\n",
              "      try {\n",
              "        const charts = await google.colab.kernel.invokeFunction(\n",
              "            'suggestCharts', [key], {});\n",
              "      } catch (error) {\n",
              "        console.error('Error during call to suggestCharts:', error);\n",
              "      }\n",
              "      quickchartButtonEl.classList.remove('colab-df-spinner');\n",
              "      quickchartButtonEl.classList.add('colab-df-quickchart-complete');\n",
              "    }\n",
              "    (() => {\n",
              "      let quickchartButtonEl =\n",
              "        document.querySelector('#df-ef2db30d-7c45-4c96-b018-c6721d0bda8b button');\n",
              "      quickchartButtonEl.style.display =\n",
              "        google.colab.kernel.accessAllowed ? 'block' : 'none';\n",
              "    })();\n",
              "  </script>\n",
              "</div>\n",
              "    </div>\n",
              "  </div>\n"
            ]
          },
          "metadata": {},
          "execution_count": 15
        }
      ]
    },
    {
      "cell_type": "markdown",
      "source": [
        "### Variables Description"
      ],
      "metadata": {
        "id": "PBTbrJXOngz2"
      }
    },
    {
      "cell_type": "markdown",
      "source": [
        "show_id : Unique ID for every Movie / Tv Show\n",
        "\n",
        "type : Identifier - A Movie or TV Show\n",
        "\n",
        "title : Title of the Movie / Tv Show\n",
        "\n",
        "director : Director of the Movie\n",
        "\n",
        "cast : Actors involved in the movie / show\n",
        "\n",
        "country : Country where the movie / show was produced\n",
        "\n",
        "date_added : Date it was added on Netflix\n",
        "\n",
        "release_year : Actual Releaseyear of the movie / show\n",
        "\n",
        "rating : TV Rating of the movie / show\n",
        "\n",
        "duration : Total Duration - in minutes or number of\n",
        "seasons\n",
        "\n",
        "listed_in : Genre\n",
        "\n",
        "description: The Summary description"
      ],
      "metadata": {
        "id": "aJV4KIxSnxay"
      }
    },
    {
      "cell_type": "markdown",
      "source": [
        "### Check Unique Values for each variable."
      ],
      "metadata": {
        "id": "u3PMJOP6ngxN"
      }
    },
    {
      "cell_type": "code",
      "source": [
        "# Check Unique Values for each variable.\n",
        "df.nunique()"
      ],
      "metadata": {
        "id": "zms12Yq5n-jE",
        "colab": {
          "base_uri": "https://localhost:8080/"
        },
        "outputId": "21223d75-3bb1-4f49-dd74-9d4a6ecf6965"
      },
      "execution_count": 16,
      "outputs": [
        {
          "output_type": "execute_result",
          "data": {
            "text/plain": [
              "show_id         7787\n",
              "type               2\n",
              "title           7787\n",
              "director        4049\n",
              "cast            6831\n",
              "country          681\n",
              "date_added      1565\n",
              "release_year      73\n",
              "rating            14\n",
              "duration         216\n",
              "listed_in        492\n",
              "description     7769\n",
              "dtype: int64"
            ]
          },
          "metadata": {},
          "execution_count": 16
        }
      ]
    },
    {
      "cell_type": "markdown",
      "source": [
        "\n",
        "\n",
        "*  The missing values in the director, cast, and country attributes can be replaced with 'Unknown'\n",
        "*  10 records with missing values in the date_added column can be dropped.\n",
        "\n",
        "\n",
        "*   The missing values in rating can be imputed with its mode, since this attribute is discrete.\n",
        "\n",
        "\n",
        "\n",
        "\n"
      ],
      "metadata": {
        "id": "jQ66hSKodIFA"
      }
    },
    {
      "cell_type": "code",
      "source": [],
      "metadata": {
        "id": "IJNCIF4E6YM2"
      },
      "execution_count": 16,
      "outputs": []
    },
    {
      "cell_type": "markdown",
      "source": [
        "## 3. ***Data Wrangling***"
      ],
      "metadata": {
        "id": "dauF4eBmngu3"
      }
    },
    {
      "cell_type": "markdown",
      "source": [
        "### Data Wrangling Code"
      ],
      "metadata": {
        "id": "bKJF3rekwFvQ"
      }
    },
    {
      "cell_type": "code",
      "source": [
        "# Write your code to make your dataset analysis ready.\n",
        "# Handling the missing values\n",
        "df[['director','cast','country']] = df[['director','cast','country']].fillna('Unknown')\n",
        "df['rating'] = df['rating'].fillna(df['rating'].mode()[0])\n",
        "df.dropna(axis=0, inplace = True)"
      ],
      "metadata": {
        "id": "wk-9a2fpoLcV"
      },
      "execution_count": 17,
      "outputs": []
    },
    {
      "cell_type": "code",
      "source": [
        "df.shape"
      ],
      "metadata": {
        "colab": {
          "base_uri": "https://localhost:8080/"
        },
        "id": "3q2Tq6gWdkay",
        "outputId": "9b0958c5-2f5a-4dae-8386-e7f64cfd4cd4"
      },
      "execution_count": 18,
      "outputs": [
        {
          "output_type": "execute_result",
          "data": {
            "text/plain": [
              "(7777, 12)"
            ]
          },
          "metadata": {},
          "execution_count": 18
        }
      ]
    },
    {
      "cell_type": "markdown",
      "source": [
        "We have successfully handled all the missing values in the dataset."
      ],
      "metadata": {
        "id": "gWWNSd_YdpUC"
      }
    },
    {
      "cell_type": "markdown",
      "source": [
        "**Country, listed_in:**"
      ],
      "metadata": {
        "id": "_UOf5_RheGhV"
      }
    },
    {
      "cell_type": "code",
      "source": [
        "# Top countries\n",
        "df.country.value_counts()"
      ],
      "metadata": {
        "colab": {
          "base_uri": "https://localhost:8080/"
        },
        "id": "wNjHrWe2eK9v",
        "outputId": "6fecb614-a4fd-4f7c-a148-02c1447780d9"
      },
      "execution_count": 19,
      "outputs": [
        {
          "output_type": "execute_result",
          "data": {
            "text/plain": [
              "United States                                                   2549\n",
              "India                                                            923\n",
              "Unknown                                                          506\n",
              "United Kingdom                                                   396\n",
              "Japan                                                            225\n",
              "                                                                ... \n",
              "Russia, United States, China                                       1\n",
              "Italy, Switzerland, France, Germany                                1\n",
              "United States, United Kingdom, Canada                              1\n",
              "United States, United Kingdom, Japan                               1\n",
              "Sweden, Czech Republic, United Kingdom, Denmark, Netherlands       1\n",
              "Name: country, Length: 682, dtype: int64"
            ]
          },
          "metadata": {},
          "execution_count": 19
        }
      ]
    },
    {
      "cell_type": "code",
      "source": [
        "# Genre of shows\n",
        "df.listed_in.value_counts()"
      ],
      "metadata": {
        "colab": {
          "base_uri": "https://localhost:8080/"
        },
        "id": "re7mpLa1ePET",
        "outputId": "2e281f62-4cdb-4793-b745-7cc67bae1624"
      },
      "execution_count": 20,
      "outputs": [
        {
          "output_type": "execute_result",
          "data": {
            "text/plain": [
              "Documentaries                                                                      334\n",
              "Stand-Up Comedy                                                                    321\n",
              "Dramas, International Movies                                                       320\n",
              "Comedies, Dramas, International Movies                                             243\n",
              "Dramas, Independent Movies, International Movies                                   215\n",
              "                                                                                  ... \n",
              "Anime Series, Crime TV Shows, TV Thrillers                                           1\n",
              "Crime TV Shows, Romantic TV Shows, Spanish-Language TV Shows                         1\n",
              "Crime TV Shows, International TV Shows, Reality TV                                   1\n",
              "International Movies, Romantic Movies, Sci-Fi & Fantasy                              1\n",
              "International TV Shows, Spanish-Language TV Shows, Stand-Up Comedy & Talk Shows      1\n",
              "Name: listed_in, Length: 491, dtype: int64"
            ]
          },
          "metadata": {},
          "execution_count": 20
        }
      ]
    },
    {
      "cell_type": "markdown",
      "source": [
        "\n",
        "\n",
        "\n",
        "1.There are some movies / TV shows that were filmed in multiple countries, have multiple genres associated with it.\n",
        "\n",
        "\n",
        "2.To simplify the analysis, let's consider only the primary country where that respective movie / TV show was filmed.\n",
        "\n",
        "\n",
        "3.Also, let's consider only the primary genre of the respective movie / TV show.\n",
        "\n",
        "\n",
        "\n",
        "\n",
        "\n"
      ],
      "metadata": {
        "id": "re8zT1Y1eY1u"
      }
    },
    {
      "cell_type": "code",
      "source": [
        "# Choosing the primary country and primary genre to simplify the analysis\n",
        "df['country'] = df['country'].apply(lambda x: x.split(',')[0])\n",
        "df['listed_in'] = df['listed_in'].apply(lambda x: x.split(',')[0])"
      ],
      "metadata": {
        "id": "BnBVlqcBe0M9"
      },
      "execution_count": 21,
      "outputs": []
    },
    {
      "cell_type": "code",
      "source": [
        "# contry in which a movie was produced\n",
        "df.country.value_counts()"
      ],
      "metadata": {
        "colab": {
          "base_uri": "https://localhost:8080/"
        },
        "id": "78XkDDcZe4NV",
        "outputId": "4ff6d0d2-2074-404e-9dd2-6dd73631ec88"
      },
      "execution_count": 22,
      "outputs": [
        {
          "output_type": "execute_result",
          "data": {
            "text/plain": [
              "United States     2877\n",
              "India              956\n",
              "United Kingdom     576\n",
              "Unknown            506\n",
              "Canada             259\n",
              "                  ... \n",
              "Zimbabwe             1\n",
              "Namibia              1\n",
              "Soviet Union         1\n",
              "Iran                 1\n",
              "Somalia              1\n",
              "Name: country, Length: 82, dtype: int64"
            ]
          },
          "metadata": {},
          "execution_count": 22
        }
      ]
    },
    {
      "cell_type": "code",
      "source": [
        "# genre of shows\n",
        "df.listed_in.value_counts()"
      ],
      "metadata": {
        "colab": {
          "base_uri": "https://localhost:8080/"
        },
        "id": "mVvswvrte8Rf",
        "outputId": "b30e6173-fdfe-4293-edef-c03628ddf9ef"
      },
      "execution_count": 23,
      "outputs": [
        {
          "output_type": "execute_result",
          "data": {
            "text/plain": [
              "Dramas                          1384\n",
              "Comedies                        1074\n",
              "Documentaries                    751\n",
              "Action & Adventure               721\n",
              "International TV Shows           689\n",
              "Children & Family Movies         502\n",
              "Crime TV Shows                   369\n",
              "Kids' TV                         357\n",
              "Stand-Up Comedy                  321\n",
              "Horror Movies                    244\n",
              "British TV Shows                 231\n",
              "Docuseries                       193\n",
              "Anime Series                     147\n",
              "International Movies             114\n",
              "TV Comedies                      109\n",
              "Reality TV                       102\n",
              "Classic Movies                    77\n",
              "TV Dramas                         62\n",
              "Movies                            56\n",
              "Thrillers                         49\n",
              "TV Action & Adventure             36\n",
              "Stand-Up Comedy & Talk Shows      33\n",
              "Romantic TV Shows                 28\n",
              "Independent Movies                20\n",
              "Anime Features                    19\n",
              "Classic & Cult TV                 19\n",
              "Music & Musicals                  17\n",
              "TV Shows                          12\n",
              "Cult Movies                       12\n",
              "Sci-Fi & Fantasy                  11\n",
              "TV Horror                         10\n",
              "Romantic Movies                    3\n",
              "Spanish-Language TV Shows          2\n",
              "Sports Movies                      1\n",
              "TV Sci-Fi & Fantasy                1\n",
              "LGBTQ Movies                       1\n",
              "Name: listed_in, dtype: int64"
            ]
          },
          "metadata": {},
          "execution_count": 23
        }
      ]
    }
  ]
}